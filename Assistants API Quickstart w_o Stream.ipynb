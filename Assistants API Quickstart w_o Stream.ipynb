{
 "cells": [
  {
   "cell_type": "code",
   "execution_count": 1,
   "metadata": {},
   "outputs": [],
   "source": [
    "from openai import OpenAI\n",
    "client = OpenAI()\n",
    "\n",
    "assistant = client.beta.assistants.create(\n",
    "  name=\"Math Tutor\",\n",
    "  instructions=\"You are a personal math tutor. Write and run code to answer math questions.\",\n",
    "  tools=[{\"type\": \"code_interpreter\"}],\n",
    "  model=\"gpt-4o\",\n",
    ")"
   ]
  },
  {
   "cell_type": "code",
   "execution_count": 2,
   "metadata": {},
   "outputs": [],
   "source": [
    "thread = client.beta.threads.create()"
   ]
  },
  {
   "cell_type": "code",
   "execution_count": 3,
   "metadata": {},
   "outputs": [],
   "source": [
    "message = client.beta.threads.messages.create(\n",
    "  thread_id=thread.id,\n",
    "  role=\"user\",\n",
    "  content=\"I need to solve the equation `3x + 11 = 14`. Can you help me?\"\n",
    ")"
   ]
  },
  {
   "cell_type": "code",
   "execution_count": 4,
   "metadata": {},
   "outputs": [],
   "source": [
    "run = client.beta.threads.runs.create_and_poll(\n",
    "  thread_id=thread.id,\n",
    "  assistant_id=assistant.id,\n",
    "  instructions=\"Please address the user as Jane Doe. The user has a premium account.\"\n",
    ")"
   ]
  },
  {
   "cell_type": "code",
   "execution_count": 5,
   "metadata": {},
   "outputs": [
    {
     "name": "stdout",
     "output_type": "stream",
     "text": [
      "SyncCursorPage[Message](data=[Message(id='msg_d0dZXn88IPdqLIAHWvvZlM1x', assistant_id='asst_ImMNdhK6hm08sT4rQC6my8Ao', attachments=[], completed_at=None, content=[TextContentBlock(text=Text(annotations=[], value=\"Of course, Jane Doe. Let's solve the equation \\\\( 3x + 11 = 14 \\\\) step by step.\\n\\n1. Start by isolating the term with \\\\( x \\\\). To do this, subtract 11 from both sides of the equation:\\n\\n\\\\[ 3x + 11 - 11 = 14 - 11 \\\\]\\n\\nThis simplifies to:\\n\\n\\\\[ 3x = 3 \\\\]\\n\\n2. Now, divide both sides of the equation by 3 to solve for \\\\( x \\\\):\\n\\n\\\\[ \\\\frac{3x}{3} = \\\\frac{3}{3} \\\\]\\n\\nThis simplifies to:\\n\\n\\\\[ x = 1 \\\\]\\n\\nSo, the solution to the equation \\\\( 3x + 11 = 14 \\\\) is \\\\( x = 1 \\\\).\"), type='text')], created_at=1727196554, incomplete_at=None, incomplete_details=None, metadata={}, object='thread.message', role='assistant', run_id='run_HdUTIOuUj7tNgLit65vMyRE6', status=None, thread_id='thread_g2zkTIEl6sz6x7S8ZzWMT1FQ'), Message(id='msg_bOnMbJQMlJJRMomu72LT5e9t', assistant_id=None, attachments=[], completed_at=None, content=[TextContentBlock(text=Text(annotations=[], value='I need to solve the equation `3x + 11 = 14`. Can you help me?'), type='text')], created_at=1727196546, incomplete_at=None, incomplete_details=None, metadata={}, object='thread.message', role='user', run_id=None, status=None, thread_id='thread_g2zkTIEl6sz6x7S8ZzWMT1FQ')], object='list', first_id='msg_d0dZXn88IPdqLIAHWvvZlM1x', last_id='msg_bOnMbJQMlJJRMomu72LT5e9t', has_more=False)\n"
     ]
    }
   ],
   "source": [
    "if run.status == 'completed': \n",
    "  messages = client.beta.threads.messages.list(\n",
    "    thread_id=thread.id\n",
    "  )\n",
    "  print(messages)\n",
    "else:\n",
    "  print(run.status)"
   ]
  }
 ],
 "metadata": {
  "kernelspec": {
   "display_name": ".venv",
   "language": "python",
   "name": "python3"
  },
  "language_info": {
   "codemirror_mode": {
    "name": "ipython",
    "version": 3
   },
   "file_extension": ".py",
   "mimetype": "text/x-python",
   "name": "python",
   "nbconvert_exporter": "python",
   "pygments_lexer": "ipython3",
   "version": "3.11.9"
  }
 },
 "nbformat": 4,
 "nbformat_minor": 2
}
